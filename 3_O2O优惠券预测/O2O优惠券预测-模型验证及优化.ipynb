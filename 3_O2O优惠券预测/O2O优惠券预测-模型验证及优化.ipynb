{
 "cells": [
  {
   "cell_type": "markdown",
   "metadata": {
    "toc": true
   },
   "source": [
    "<h1>模型验证及优化<span class=\"tocSkip\"></span></h1>\n",
    "<div class=\"toc\"><ul class=\"toc-item\"><li><span><a href=\"#模型验证及选择\" data-toc-modified-id=\"模型验证及选择-1\"><span class=\"toc-item-num\">1&nbsp;&nbsp;</span>模型验证及选择</a></span><ul class=\"toc-item\"><li><span><a href=\"#整体说明及准备工作\" data-toc-modified-id=\"整体说明及准备工作-1.1\"><span class=\"toc-item-num\">1.1&nbsp;&nbsp;</span>整体说明及准备工作</a></span></li><li><span><a href=\"#评价指标及预测方式等\" data-toc-modified-id=\"评价指标及预测方式等-1.2\"><span class=\"toc-item-num\">1.2&nbsp;&nbsp;</span>评价指标及预测方式等</a></span></li><li><span><a href=\"#验证方式\" data-toc-modified-id=\"验证方式-1.3\"><span class=\"toc-item-num\">1.3&nbsp;&nbsp;</span>验证方式</a></span><ul class=\"toc-item\"><li><span><a href=\"#简单交叉验证\" data-toc-modified-id=\"简单交叉验证-1.3.1\"><span class=\"toc-item-num\">1.3.1&nbsp;&nbsp;</span>简单交叉验证</a></span></li><li><span><a href=\"#K折交叉验证-K-fold-CV\" data-toc-modified-id=\"K折交叉验证-K-fold-CV-1.3.2\"><span class=\"toc-item-num\">1.3.2&nbsp;&nbsp;</span>K折交叉验证 K-fold CV</a></span></li><li><span><a href=\"#留P法-LPO-CV\" data-toc-modified-id=\"留P法-LPO-CV-1.3.3\"><span class=\"toc-item-num\">1.3.3&nbsp;&nbsp;</span>留P法 LPO CV</a></span></li><li><span><a href=\"#StratifiedKFold\" data-toc-modified-id=\"StratifiedKFold-1.3.4\"><span class=\"toc-item-num\">1.3.4&nbsp;&nbsp;</span>StratifiedKFold</a></span></li></ul></li><li><span><a href=\"#模型比较\" data-toc-modified-id=\"模型比较-1.4\"><span class=\"toc-item-num\">1.4&nbsp;&nbsp;</span>模型比较</a></span><ul class=\"toc-item\"><li><span><a href=\"#线下评测分数\" data-toc-modified-id=\"线下评测分数-1.4.1\"><span class=\"toc-item-num\">1.4.1&nbsp;&nbsp;</span>线下评测分数</a></span></li><li><span><a href=\"#绘制学习曲线进行可视化分析\" data-toc-modified-id=\"绘制学习曲线进行可视化分析-1.4.2\"><span class=\"toc-item-num\">1.4.2&nbsp;&nbsp;</span>绘制学习曲线进行可视化分析</a></span></li></ul></li></ul></li><li><span><a href=\"#模型超参空间及调参\" data-toc-modified-id=\"模型超参空间及调参-2\"><span class=\"toc-item-num\">2&nbsp;&nbsp;</span>模型超参空间及调参</a></span><ul class=\"toc-item\"><li><span><a href=\"#以随机森林为例介绍基本调用方法\" data-toc-modified-id=\"以随机森林为例介绍基本调用方法-2.1\"><span class=\"toc-item-num\">2.1&nbsp;&nbsp;</span>以随机森林为例介绍基本调用方法</a></span><ul class=\"toc-item\"><li><span><a href=\"#穷举网格搜索\" data-toc-modified-id=\"穷举网格搜索-2.1.1\"><span class=\"toc-item-num\">2.1.1&nbsp;&nbsp;</span>穷举网格搜索</a></span></li><li><span><a href=\"#随机参数优化\" data-toc-modified-id=\"随机参数优化-2.1.2\"><span class=\"toc-item-num\">2.1.2&nbsp;&nbsp;</span>随机参数优化</a></span></li></ul></li><li><span><a href=\"#F3特征集和LightGBM-网格调参\" data-toc-modified-id=\"F3特征集和LightGBM-网格调参-2.2\"><span class=\"toc-item-num\">2.2&nbsp;&nbsp;</span>F3特征集和LightGBM 网格调参</a></span></li><li><span><a href=\"#绘制验证曲线\" data-toc-modified-id=\"绘制验证曲线-2.3\"><span class=\"toc-item-num\">2.3&nbsp;&nbsp;</span>绘制验证曲线</a></span></li></ul></li></ul></div>"
   ]
  },
  {
   "cell_type": "markdown",
   "metadata": {},
   "source": [
    "# 模型验证及选择\n",
    "\n",
    "## 整体说明及准备工作"
   ]
  },
  {
   "cell_type": "markdown",
   "metadata": {},
   "source": [
    "按照：\n",
    "评价指标\n",
    "验证方式\n",
    "学习曲线\n",
    "结果分析，模型选择\n",
    "模型调参\n",
    "的步骤对模型进行选择，调优"
   ]
  },
  {
   "cell_type": "code",
   "execution_count": 4,
   "metadata": {},
   "outputs": [],
   "source": [
    "from sklearn import metrics  \n",
    "import numpy as np  \n",
    "import pandas as pd\n",
    "import datetime\n",
    "from sklearn.model_selection import StratifiedKFold\n",
    "import lightgbm as lgb\n",
    "import xgboost as xgb\n",
    "import matplotlib.pyplot as plt\n",
    "from sklearn.naive_bayes import GaussianNB\n",
    "from sklearn.model_selection import learning_curve\n",
    "from sklearn.model_selection import ShuffleSplit\n",
    "from sklearn.model_selection import GridSearchCV\n",
    "#########部分SKLearn 集成的算法###############\n",
    "from sklearn.neighbors import KNeighborsClassifier  \n",
    "from sklearn.ensemble import RandomForestClassifier\n",
    "from sklearn import tree  \n",
    "from sklearn.ensemble import GradientBoostingClassifier\n",
    "from sklearn.svm import SVC \n",
    "from sklearn.linear_model import LogisticRegression\n",
    "from xgboost import XGBClassifier\n",
    "from lightgbm import LGBMClassifier\n",
    "from sklearn.naive_bayes import MultinomialNB \n",
    "#########SKLearn 集成的算法###############\n",
    "import warnings\n",
    "warnings.filterwarnings(\"ignore\")\n",
    " \n",
    "%matplotlib inline\n",
    "############全局参数#################################\n",
    "id_col_names=['user_id','coupon_id','date_received']\n",
    "target_col_name='label'\n",
    "id_target_cols=['user_id','coupon_id','date_received','label']\n",
    "myeval='roc_auc'\n",
    "#cvscore=0\n",
    "############目录定义#################################\n",
    "datapath = '../data/' \n",
    "featurepath = '../feature/' \n",
    "resultpath = '../result/'\n",
    "tmppath = '../tmp/'\n",
    "scorepath = '../score/'"
   ]
  },
  {
   "cell_type": "code",
   "execution_count": 5,
   "metadata": {},
   "outputs": [],
   "source": [
    "###########工具函数#############################################\n",
    "#返回ID列\n",
    "def get_id_df(df):\n",
    "    return df[id_col_names]\n",
    "\n",
    "#返回Target列\n",
    "def get_target_df(df):\n",
    "    return df[target_col_name]\n",
    "\n",
    "#返回特征列\n",
    "def get_predictors_df(df):\n",
    "    predictors = [f for f in df.columns if f not in id_target_cols]\n",
    "    return df[predictors]\n",
    "\n",
    "#按特征名读取训练集\n",
    "def read_featurefile_train(featurename): \n",
    "    df=pd.read_csv(featurepath+'train_'+featurename+'.csv', sep=',' , encoding = \"utf-8\")\n",
    "    df.fillna(0,inplace=True)\n",
    "    return df\n",
    "\n",
    "#按特征名读取测试集\n",
    "def read_featurefile_test(featurename): \n",
    "    df=pd.read_csv(featurepath+'test_'+featurename+'.csv', sep=',' , encoding = \"utf-8\")\n",
    "    df.fillna(0,inplace=True)\n",
    "    return df\n",
    "\n",
    "# 将特征归一化\n",
    "def standize_df(train_data,test_data):\n",
    "    from sklearn import preprocessing \n",
    "    \n",
    "    features_columns = [f for f in test_data.columns if f not in id_target_cols]\n",
    "    min_max_scaler = preprocessing.MinMaxScaler()\n",
    "    min_max_scaler = min_max_scaler.fit(train_data[features_columns])\n",
    "    \n",
    "    train_data_scaler = min_max_scaler.transform(train_data[features_columns])\n",
    "    test_data_scaler = min_max_scaler.transform(test_data[features_columns])\n",
    "    \n",
    "    train_data_scaler = pd.DataFrame(train_data_scaler)\n",
    "    train_data_scaler.columns = features_columns\n",
    "    \n",
    "    test_data_scaler = pd.DataFrame(test_data_scaler)\n",
    "    test_data_scaler.columns = features_columns\n",
    "    \n",
    "    train_data_scaler['label'] = train_data['label']\n",
    "    train_data_scaler[id_col_names] = train_data[id_col_names]\n",
    "    test_data_scaler[id_col_names] = test_data[id_col_names]\n",
    "    return train_data_scaler,test_data_scaler\n",
    "\n",
    "#按特征名读取数据\n",
    "def read_data(featurename): \n",
    "    traindf = read_featurefile_train(featurename)\n",
    "    testdf = read_featurefile_test(featurename)\n",
    "    #return traindf,testdf  \n",
    "    return standize_df(traindf,testdf)  "
   ]
  },
  {
   "cell_type": "code",
   "execution_count": 6,
   "metadata": {},
   "outputs": [],
   "source": [
    "#数据读取\n",
    "#所有的特征都是上一节生成的\n",
    "train_f1,test_f1=read_data('f1')\n",
    "#所有的特征都是上一节生成的\n",
    "train_f2,test_f2=read_data('sf2')\n",
    "#所有的特征都是上一节生成的\n",
    "train_f3,test_f3=read_data('sf3')"
   ]
  },
  {
   "cell_type": "markdown",
   "metadata": {},
   "source": [
    "## 评价指标及预测方式等"
   ]
  },
  {
   "cell_type": "code",
   "execution_count": 7,
   "metadata": {},
   "outputs": [],
   "source": [
    "#性能评价函数\n",
    "#本赛题目标是预测投放的优惠券是否核销。\n",
    "#针对此任务及一些相关背景知识，使用优惠券核销预测的平均AUC（ROC曲线下面积）作为评价标准。 \n",
    "#即对每个优惠券coupon_id单独计算核销预测的AUC值，再对所有优惠券的AUC值求平均作为最终的评价标准。\n",
    "# coupon平均auc计算\n",
    "from sklearn.metrics import roc_auc_score \n",
    "def myauc(test):\n",
    "    testgroup = test.groupby(['coupon_id'])\n",
    "    aucs = []\n",
    "    for i in testgroup:\n",
    "        coupon_df = i[1]\n",
    "        #测算AUC必须大于1个类别\n",
    "        if len(coupon_df['label'].unique()) < 2:\n",
    "            continue\n",
    "        auc = metrics.roc_auc_score(coupon_df['label'], coupon_df['pred'])\n",
    "        aucs.append(auc)\n",
    "    return np.average(aucs)"
   ]
  },
  {
   "cell_type": "markdown",
   "metadata": {},
   "source": [
    "虽然赛题是按照coupon的AUC来计算。不过因为整体AUC（也就是用roc_auc_score 求出的结果）与Coupon AUC同增同减，所以在进行评估的时候可以直接使用整体AUC。"
   ]
  },
  {
   "cell_type": "markdown",
   "metadata": {},
   "source": [
    "预测方式，因为要的结果是购买的几率，所以不能直接用Predict因为这样会直接返回0,1,而要用predict_proba，它会返回每个类别的可能行，取其中为1的列即可"
   ]
  },
  {
   "cell_type": "markdown",
   "metadata": {},
   "source": [
    "## 验证方式"
   ]
  },
  {
   "cell_type": "markdown",
   "metadata": {},
   "source": [
    "### 简单交叉验证"
   ]
  },
  {
   "cell_type": "code",
   "execution_count": 8,
   "metadata": {},
   "outputs": [
    {
     "name": "stdout",
     "output_type": "stream",
     "text": [
      "LogisticRegression train 总体AUC:    0.6634053234953916\n",
      "LogisticRegression test 总体AUC:    0.6674416674688228\n",
      "LogisticRegression train Coupon AUC:    0.5402870051010003\n",
      "LogisticRegression test Coupon AUC:    0.5410440709758992\n"
     ]
    }
   ],
   "source": [
    "# 简单交叉验证F1\n",
    "\n",
    "from sklearn.model_selection import train_test_split # 切分数据\n",
    "target = get_target_df(train_f1).copy()\n",
    "traindf=train_f1.copy()\n",
    "# 切分数据 训练数据80% 验证数据20%\n",
    "train_all,test_all,train_target,test_target=train_test_split(traindf,target,test_size=0.2,random_state=0)\n",
    "\n",
    "train_data = get_predictors_df(train_all).copy()\n",
    "test_data = get_predictors_df(test_all).copy()\n",
    "\n",
    "clf = LogisticRegression()\n",
    "clf.fit(train_data, train_target)\n",
    "train_pred=clf.predict_proba(train_data)[:,1]\n",
    "test_pred=clf.predict_proba(test_data)[:,1]\n",
    "\n",
    "score_train = roc_auc_score(train_target,train_pred )\n",
    "score_test = roc_auc_score(test_target, test_pred)\n",
    "print(\"LogisticRegression train 总体AUC:   \", score_train)\n",
    "print(\"LogisticRegression test 总体AUC:   \", score_test)\n",
    "\n",
    "train_all['pred']=train_pred\n",
    "test_all['pred']=test_pred\n",
    "print(\"LogisticRegression train Coupon AUC:   \", myauc(train_all))\n",
    "print(\"LogisticRegression test Coupon AUC:   \", myauc(test_all))"
   ]
  },
  {
   "cell_type": "code",
   "execution_count": 9,
   "metadata": {},
   "outputs": [
    {
     "name": "stdout",
     "output_type": "stream",
     "text": [
      "LogisticRegression train 总体AUC:    0.8442307693374849\n",
      "LogisticRegression test 总体AUC:    0.845122660897918\n",
      "LogisticRegression train Coupon AUC:    0.7211551245553377\n",
      "LogisticRegression test Coupon AUC:    0.7441844335038528\n"
     ]
    }
   ],
   "source": [
    "# 简单交叉验证 F3\n",
    "\n",
    "from sklearn.model_selection import train_test_split # 切分数据\n",
    "\n",
    "target = get_target_df(train_f3).copy()\n",
    "traindf=train_f3.copy()\n",
    "\n",
    "# 切分数据 训练数据80% 验证数据20%\n",
    "train_all,test_all,train_target,test_target=train_test_split(traindf,target,test_size=0.2,random_state=0)\n",
    "\n",
    "train_data = get_predictors_df(train_all).copy()\n",
    "test_data = get_predictors_df(test_all).copy()\n",
    "\n",
    "clf = LogisticRegression()\n",
    "clf.fit(train_data, train_target)\n",
    "train_pred=clf.predict_proba(train_data)[:,1]\n",
    "test_pred=clf.predict_proba(test_data)[:,1]\n",
    "\n",
    "score_train = roc_auc_score(train_target,train_pred )\n",
    "score_test = roc_auc_score(test_target, test_pred)\n",
    "print(\"LogisticRegression train 总体AUC:   \", score_train)\n",
    "print(\"LogisticRegression test 总体AUC:   \", score_test)\n",
    "\n",
    "train_all['pred']=train_pred\n",
    "test_all['pred']=test_pred\n",
    "print(\"LogisticRegression train Coupon AUC:   \", myauc(train_all))\n",
    "print(\"LogisticRegression test Coupon AUC:   \", myauc(test_all))"
   ]
  },
  {
   "cell_type": "markdown",
   "metadata": {},
   "source": [
    "### K折交叉验证 K-fold CV"
   ]
  },
  {
   "cell_type": "code",
   "execution_count": 31,
   "metadata": {},
   "outputs": [
    {
     "name": "stdout",
     "output_type": "stream",
     "text": [
      "1  折 LogisticRegression train 总体AUC:    0.837345611697\n",
      "1  折 LogisticRegression test 总体AUC:    0.8707048174\n",
      "1  折 LogisticRegression train Coupon AUC:    0.720829003213\n",
      "1  折 LogisticRegression test Coupon AUC:    0.734005079515 \n",
      "\n",
      "2  折 LogisticRegression train 总体AUC:    0.837896753907\n",
      "2  折 LogisticRegression test 总体AUC:    0.869158984347\n",
      "2  折 LogisticRegression train Coupon AUC:    0.722887544321\n",
      "2  折 LogisticRegression test Coupon AUC:    0.724054939065 \n",
      "\n",
      "3  折 LogisticRegression train 总体AUC:    0.849222224915\n",
      "3  折 LogisticRegression test 总体AUC:    0.825331866749\n",
      "3  折 LogisticRegression train Coupon AUC:    0.725390841419\n",
      "3  折 LogisticRegression test Coupon AUC:    0.730013129387 \n",
      "\n",
      "4  折 LogisticRegression train 总体AUC:    0.850172798385\n",
      "4  折 LogisticRegression test 总体AUC:    0.822161974238\n",
      "4  折 LogisticRegression train Coupon AUC:    0.716730536335\n",
      "4  折 LogisticRegression test Coupon AUC:    0.746817487494 \n",
      "\n",
      "5  折 LogisticRegression train 总体AUC:    0.84991173704\n",
      "5  折 LogisticRegression test 总体AUC:    0.822351347296\n",
      "5  折 LogisticRegression train Coupon AUC:    0.721082134258\n",
      "5  折 LogisticRegression test Coupon AUC:    0.737743915275 \n",
      "\n"
     ]
    }
   ],
   "source": [
    "# 5折交叉验证\n",
    "train = train_f3.copy()\n",
    "target = get_target_df(train_f3).copy()\n",
    "\n",
    "from sklearn.model_selection import KFold\n",
    "\n",
    "kf = KFold(n_splits=5)\n",
    "for k, (train_index, test_index) in enumerate(kf.split(train)):\n",
    "    train_data,test_data,train_target,test_target = train.iloc[train_index],train.iloc[test_index],target[train_index],target[test_index]\n",
    "    clf = LogisticRegression() \n",
    "    clf.fit(get_predictors_df(train_data), train_target)\n",
    "    \n",
    "    train_pred=clf.predict_proba(get_predictors_df(train_data))[:,1]\n",
    "    test_pred=clf.predict_proba(get_predictors_df(test_data))[:,1]\n",
    "    score_train = roc_auc_score(train_target, train_pred)\n",
    "    score_test = roc_auc_score(test_target, test_pred)\n",
    "    train_data['pred']=train_pred\n",
    "    test_data['pred']=test_pred\n",
    "    print(k+1, \" 折\", \"LogisticRegression train 总体AUC:   \", score_train)\n",
    "    print(k+1, \" 折\", \"LogisticRegression test 总体AUC:   \", score_test)  \n",
    "    print(k+1, \" 折\", \"LogisticRegression train Coupon AUC:   \", myauc(train_data))\n",
    "    print(k+1, \" 折\", \"LogisticRegression test Coupon AUC:   \", myauc(test_data), '\\n')"
   ]
  },
  {
   "cell_type": "markdown",
   "metadata": {},
   "source": [
    "### 留P法 LPO CV"
   ]
  },
  {
   "cell_type": "code",
   "execution_count": 32,
   "metadata": {
    "scrolled": true
   },
   "outputs": [
    {
     "name": "stdout",
     "output_type": "stream",
     "text": [
      "1  折 LogisticRegression train 总体AUC:    0.844801118615\n",
      "1  折 LogisticRegression test 总体AUC:    0.896941489362\n",
      "1  折 LogisticRegression train Coupon AUC:    0.720684812987\n",
      "1  折 LogisticRegression test Coupon AUC:    0.657894736842 \n",
      "\n",
      "2  折 LogisticRegression train 总体AUC:    0.844794141396\n",
      "2  折 LogisticRegression test 总体AUC:    0.896941489362\n",
      "2  折 LogisticRegression train Coupon AUC:    0.720770461606\n",
      "2  折 LogisticRegression test Coupon AUC:    0.675 \n",
      "\n",
      "3  折 LogisticRegression train 总体AUC:    0.844801150159\n",
      "3  折 LogisticRegression test 总体AUC:    0.896941489362\n",
      "3  折 LogisticRegression train Coupon AUC:    0.720684804795\n",
      "3  折 LogisticRegression test Coupon AUC:    0.657894736842 \n",
      "\n",
      "4  折 LogisticRegression train 总体AUC:    0.844801237847\n",
      "4  折 LogisticRegression test 总体AUC:    0.896941489362\n",
      "4  折 LogisticRegression train Coupon AUC:    0.720684793891\n",
      "4  折 LogisticRegression test Coupon AUC:    0.657894736842 \n",
      "\n",
      "5  折 LogisticRegression train 总体AUC:    0.844802162966\n",
      "5  折 LogisticRegression test 总体AUC:    0.895168439716\n",
      "5  折 LogisticRegression train Coupon AUC:    0.720682974884\n",
      "5  折 LogisticRegression test Coupon AUC:    0.657894736842 \n",
      "\n",
      "6  折 LogisticRegression train 总体AUC:    0.84480204307\n",
      "6  折 LogisticRegression test 总体AUC:    0.895168439716\n",
      "6  折 LogisticRegression train Coupon AUC:    0.720679672439\n",
      "6  折 LogisticRegression test Coupon AUC:    0.657894736842 \n",
      "\n"
     ]
    }
   ],
   "source": [
    "train = train_f3.copy()\n",
    "target = get_target_df(train_f3).copy()\n",
    "\n",
    "from sklearn.model_selection import LeavePOut\n",
    "lpo = LeavePOut(p=200)\n",
    "num = 100\n",
    "for k, (train_index, test_index) in enumerate(lpo.split(train)):\n",
    "    train_data,test_data,train_target,test_target = train.iloc[train_index],train.iloc[test_index],target[train_index],target[test_index]\n",
    "    clf = LogisticRegression() \n",
    "    clf.fit(get_predictors_df(train_data), train_target)\n",
    "    \n",
    "    train_pred=clf.predict_proba(get_predictors_df(train_data))[:,1]\n",
    "    test_pred=clf.predict_proba(get_predictors_df(test_data))[:,1]\n",
    "    score_train = roc_auc_score(train_target, train_pred)\n",
    "    score_test = roc_auc_score(test_target, test_pred)\n",
    "    train_data['pred']=train_pred\n",
    "    test_data['pred']=test_pred\n",
    "    print(k+1, \" 折\", \"LogisticRegression train 总体AUC:   \", score_train)\n",
    "    print(k+1, \" 折\", \"LogisticRegression test 总体AUC:   \", score_test)  \n",
    "    print(k+1, \" 折\", \"LogisticRegression train Coupon AUC:   \", myauc(train_data))\n",
    "    print(k+1, \" 折\", \"LogisticRegression test Coupon AUC:   \", myauc(test_data), '\\n')\n",
    "    if k >= 5:\n",
    "        break"
   ]
  },
  {
   "cell_type": "markdown",
   "metadata": {},
   "source": [
    "### StratifiedKFold\n",
    "通过比较发现还是StratifiedKFold比较适合本赛题。因为本赛题正负样本分布不均匀。而StratifiedKFold 分层采样交叉切分，确保训练集，测试集中各类别样本的比例与原始数据集中相同。"
   ]
  },
  {
   "cell_type": "code",
   "execution_count": 10,
   "metadata": {},
   "outputs": [
    {
     "name": "stdout",
     "output_type": "stream",
     "text": [
      "1  折 LogisticRegression train 总体AUC:    0.8372053372482697\n",
      "1  折 LogisticRegression test 总体AUC:    0.8687338139599339\n",
      "1  折 LogisticRegression train Coupon AUC:    0.7244255662834408\n",
      "1  折 LogisticRegression test Coupon AUC:    0.730025757319263 \n",
      "\n",
      "2  折 LogisticRegression train 总体AUC:    0.8379961144637931\n",
      "2  折 LogisticRegression test 总体AUC:    0.8724991576085558\n",
      "2  折 LogisticRegression train Coupon AUC:    0.719186178459241\n",
      "2  折 LogisticRegression test Coupon AUC:    0.7342186628109415 \n",
      "\n",
      "3  折 LogisticRegression train 总体AUC:    0.8484264661642316\n",
      "3  折 LogisticRegression test 总体AUC:    0.8297601049649543\n",
      "3  折 LogisticRegression train Coupon AUC:    0.7225151624402235\n",
      "3  折 LogisticRegression test Coupon AUC:    0.7307145876564921 \n",
      "\n",
      "4  折 LogisticRegression train 总体AUC:    0.8501477800991969\n",
      "4  折 LogisticRegression test 总体AUC:    0.8210263912533682\n",
      "4  折 LogisticRegression train Coupon AUC:    0.720396025535429\n",
      "4  折 LogisticRegression test Coupon AUC:    0.7440700245280267 \n",
      "\n",
      "5  折 LogisticRegression train 总体AUC:    0.8497470523718416\n",
      "5  折 LogisticRegression test 总体AUC:    0.821649452000139\n",
      "5  折 LogisticRegression train Coupon AUC:    0.7208996078543489\n",
      "5  折 LogisticRegression test Coupon AUC:    0.7372941943745948 \n",
      "\n"
     ]
    }
   ],
   "source": [
    "# 5折交叉验证\n",
    "train = train_f3.copy()\n",
    "target = get_target_df(train_f3).copy()\n",
    "\n",
    "from sklearn.model_selection import StratifiedKFold\n",
    "\n",
    "kf = StratifiedKFold(n_splits=5)\n",
    "for k, (train_index, test_index) in enumerate(kf.split(train,target)):\n",
    "    train_data,test_data,train_target,test_target = train.iloc[train_index],train.iloc[test_index],target[train_index],target[test_index]\n",
    "    clf = LogisticRegression() \n",
    "    clf.fit(get_predictors_df(train_data), train_target)\n",
    "    \n",
    "    train_pred=clf.predict_proba(get_predictors_df(train_data))[:,1]\n",
    "    test_pred=clf.predict_proba(get_predictors_df(test_data))[:,1]\n",
    "    score_train = roc_auc_score(train_target, train_pred)\n",
    "    score_test = roc_auc_score(test_target, test_pred)\n",
    "    train_data['pred']=train_pred\n",
    "    test_data['pred']=test_pred\n",
    "    print(k+1, \" 折\", \"LogisticRegression train 总体AUC:   \", score_train)\n",
    "    print(k+1, \" 折\", \"LogisticRegression test 总体AUC:   \", score_test)  \n",
    "    print(k+1, \" 折\", \"LogisticRegression train Coupon AUC:   \", myauc(train_data))\n",
    "    print(k+1, \" 折\", \"LogisticRegression test Coupon AUC:   \", myauc(test_data), '\\n') "
   ]
  },
  {
   "cell_type": "markdown",
   "metadata": {},
   "source": [
    "## 模型比较"
   ]
  },
  {
   "cell_type": "markdown",
   "metadata": {},
   "source": [
    "### 线下评测分数\n",
    "选定StratifiedKFold后我们可以直接用上面的方法对不同模型进行比对。也可以sklearn.model_selection.cross_val_score函数。它在cv是整数，而且目标是类别的时候也是用的StratifiedKFold。具体看：\n",
    "https://scikit-learn.org/stable/modules/generated/sklearn.model_selection.cross_val_score.html\n",
    "不过本赛题因为评测指标是按Coupon的AUC，所以不能用它，要自己计算。"
   ]
  },
  {
   "cell_type": "code",
   "execution_count": 11,
   "metadata": {},
   "outputs": [],
   "source": [
    "####################使用sklearn的统一代码框架##########################\n",
    "#提供的函数包括：\n",
    "#classifier_single(featurename,classifier,cvnum)\n",
    "#按满减情况分别预测\n",
    "#classifier_single_sep_fd(featurename,classifier,cvnum): \n",
    "####################整合在sklearn的分类算法###############\n",
    "def get_sklearn_model(model_name,param=None):\n",
    "    #朴素贝叶斯\n",
    "    if model_name=='NB':\n",
    "        model = MultinomialNB(alpha=0.01)\n",
    "    #逻辑回归\n",
    "    elif model_name=='LR':\n",
    "        model = LogisticRegression(penalty='l2') \n",
    "    # KNN  \n",
    "    elif model_name=='KNN':\n",
    "        model = KNeighborsClassifier()  \n",
    "    #随机森林\n",
    "    elif model_name=='RF':\n",
    "        model = RandomForestClassifier()  \n",
    "    #决策树\n",
    "    elif model_name=='DT':\n",
    "        model = tree.DecisionTreeClassifier()  \n",
    "    #向量机\n",
    "    elif model_name=='SVC':\n",
    "        model = SVC(kernel='rbf')\n",
    "    #GBDT\n",
    "    elif model_name=='GBDT':\n",
    "        model = GradientBoostingClassifier()\n",
    "    #XGBoost\n",
    "    elif model_name=='XGB':\n",
    "        model = XGBClassifier()\n",
    "    #lightGBM\n",
    "    elif model_name=='LGB':\n",
    "        model = LGBMClassifier()\n",
    "    else:\n",
    "        print(\"wrong model name!\")\n",
    "        return\n",
    "    if param is not None:\n",
    "        model.set_params(**param)\n",
    "    return model\n",
    "\n",
    "#对算法进行分析\n",
    "def classifier_df_score(train_feat,classifier,cvnum,param=None):  \n",
    "    clf=get_sklearn_model(classifier,param)\n",
    "    train = train_feat.copy()\n",
    "    target = get_target_df(train_feat).copy()\n",
    "    kf = StratifiedKFold(n_splits=cvnum)\n",
    "    \n",
    "    scores=[]\n",
    "    score_coupons=[]\n",
    "    for k, (train_index, test_index) in enumerate(kf.split(train,target)):\n",
    "        train_data,test_data,train_target,test_target = train.iloc[train_index],train.iloc[test_index],target[train_index],target[test_index]\n",
    "        clf.fit(get_predictors_df(train_data), train_target) \n",
    "        train_pred=clf.predict_proba(get_predictors_df(train_data))[:,1]\n",
    "        test_pred=clf.predict_proba(get_predictors_df(test_data))[:,1]\n",
    "        \n",
    "        score_test = roc_auc_score(test_target, test_pred)\n",
    "        test_data['pred']=test_pred\n",
    "        score_coupon_test=myauc(test_data)\n",
    "        \n",
    "        scores.append(score_test)\n",
    "        score_coupons.append(score_coupon_test)\n",
    "        \n",
    "    print (classifier+\"总体AUC:\",scores)\n",
    "    print (classifier+\"Coupon AUC:\",score_coupons)"
   ]
  },
  {
   "cell_type": "code",
   "execution_count": 12,
   "metadata": {
    "scrolled": true
   },
   "outputs": [
    {
     "data": {
      "text/html": [
       "<div>\n",
       "<style scoped>\n",
       "    .dataframe tbody tr th:only-of-type {\n",
       "        vertical-align: middle;\n",
       "    }\n",
       "\n",
       "    .dataframe tbody tr th {\n",
       "        vertical-align: top;\n",
       "    }\n",
       "\n",
       "    .dataframe thead th {\n",
       "        text-align: right;\n",
       "    }\n",
       "</style>\n",
       "<table border=\"1\" class=\"dataframe\">\n",
       "  <thead>\n",
       "    <tr style=\"text-align: right;\">\n",
       "      <th></th>\n",
       "      <th>discount_rate</th>\n",
       "      <th>distance</th>\n",
       "      <th>if_fd</th>\n",
       "      <th>full_value</th>\n",
       "      <th>reduction_value</th>\n",
       "      <th>label</th>\n",
       "      <th>user_id</th>\n",
       "      <th>coupon_id</th>\n",
       "      <th>date_received</th>\n",
       "    </tr>\n",
       "  </thead>\n",
       "  <tbody>\n",
       "    <tr>\n",
       "      <th>0</th>\n",
       "      <td>0.812785</td>\n",
       "      <td>0.1</td>\n",
       "      <td>1.0</td>\n",
       "      <td>0.500000</td>\n",
       "      <td>0.20</td>\n",
       "      <td>0</td>\n",
       "      <td>1439408</td>\n",
       "      <td>11002</td>\n",
       "      <td>20160528</td>\n",
       "    </tr>\n",
       "    <tr>\n",
       "      <th>1</th>\n",
       "      <td>0.939117</td>\n",
       "      <td>0.0</td>\n",
       "      <td>1.0</td>\n",
       "      <td>0.066667</td>\n",
       "      <td>0.01</td>\n",
       "      <td>0</td>\n",
       "      <td>1439408</td>\n",
       "      <td>8591</td>\n",
       "      <td>20160613</td>\n",
       "    </tr>\n",
       "    <tr>\n",
       "      <th>2</th>\n",
       "      <td>0.939117</td>\n",
       "      <td>0.0</td>\n",
       "      <td>1.0</td>\n",
       "      <td>0.066667</td>\n",
       "      <td>0.01</td>\n",
       "      <td>0</td>\n",
       "      <td>1439408</td>\n",
       "      <td>8591</td>\n",
       "      <td>20160516</td>\n",
       "    </tr>\n",
       "    <tr>\n",
       "      <th>3</th>\n",
       "      <td>0.761035</td>\n",
       "      <td>0.0</td>\n",
       "      <td>1.0</td>\n",
       "      <td>0.100000</td>\n",
       "      <td>0.05</td>\n",
       "      <td>0</td>\n",
       "      <td>2029232</td>\n",
       "      <td>1532</td>\n",
       "      <td>20160530</td>\n",
       "    </tr>\n",
       "    <tr>\n",
       "      <th>4</th>\n",
       "      <td>0.939117</td>\n",
       "      <td>0.0</td>\n",
       "      <td>1.0</td>\n",
       "      <td>0.066667</td>\n",
       "      <td>0.01</td>\n",
       "      <td>0</td>\n",
       "      <td>2029232</td>\n",
       "      <td>12737</td>\n",
       "      <td>20160519</td>\n",
       "    </tr>\n",
       "  </tbody>\n",
       "</table>\n",
       "</div>"
      ],
      "text/plain": [
       "   discount_rate  distance  if_fd  full_value  reduction_value  label  \\\n",
       "0       0.812785       0.1    1.0    0.500000             0.20      0   \n",
       "1       0.939117       0.0    1.0    0.066667             0.01      0   \n",
       "2       0.939117       0.0    1.0    0.066667             0.01      0   \n",
       "3       0.761035       0.0    1.0    0.100000             0.05      0   \n",
       "4       0.939117       0.0    1.0    0.066667             0.01      0   \n",
       "\n",
       "   user_id  coupon_id  date_received  \n",
       "0  1439408      11002       20160528  \n",
       "1  1439408       8591       20160613  \n",
       "2  1439408       8591       20160516  \n",
       "3  2029232       1532       20160530  \n",
       "4  2029232      12737       20160519  "
      ]
     },
     "execution_count": 12,
     "metadata": {},
     "output_type": "execute_result"
    }
   ],
   "source": [
    "#f1特征\n",
    "train=train_f1.copy()\n",
    "train.head()"
   ]
  },
  {
   "cell_type": "code",
   "execution_count": 13,
   "metadata": {
    "scrolled": true
   },
   "outputs": [
    {
     "name": "stdout",
     "output_type": "stream",
     "text": [
      "特征f1, 不同模型5折训练Score：\n",
      "NB总体AUC: [0.6484186809106656, 0.6538346697838108, 0.6573801264615924, 0.6503909739692905, 0.6633592555110361]\n",
      "NBCoupon AUC: [0.5363631418076686, 0.5338265093921163, 0.5334927461290747, 0.5415356445668099, 0.5384562409294064]\n",
      "LR总体AUC: [0.662998106407068, 0.6610222953438731, 0.6640819754240302, 0.6626296651162892, 0.6707402256077268]\n",
      "LRCoupon AUC: [0.5363729410757857, 0.5338265093921163, 0.5334926446293967, 0.5415356445668099, 0.5385172586508946]\n",
      "RF总体AUC: [0.6837818154290338, 0.6840488616682929, 0.6845524471463289, 0.6821001263879451, 0.6868554393210143]\n",
      "RFCoupon AUC: [0.5320362352910335, 0.5288615304152723, 0.521524622079353, 0.5280547805261343, 0.5382860192805202]\n",
      "LGB总体AUC: [0.6852878649490461, 0.6851764127466513, 0.6854952140724672, 0.6829579737391689, 0.6888458641150075]\n",
      "LGBCoupon AUC: [0.5332234606335067, 0.5263981314439726, 0.5266188142667052, 0.5323569762717271, 0.5405386626715268]\n"
     ]
    }
   ],
   "source": [
    "print ('特征f1, 不同模型5折训练Score：')\n",
    "classifier_df_score(train,'NB',5)\n",
    "classifier_df_score(train,'LR',5)\n",
    "classifier_df_score(train,'RF',5)\n",
    "classifier_df_score(train,'LGB',5)"
   ]
  },
  {
   "cell_type": "code",
   "execution_count": 14,
   "metadata": {},
   "outputs": [
    {
     "data": {
      "text/html": [
       "<div>\n",
       "<style scoped>\n",
       "    .dataframe tbody tr th:only-of-type {\n",
       "        vertical-align: middle;\n",
       "    }\n",
       "\n",
       "    .dataframe tbody tr th {\n",
       "        vertical-align: top;\n",
       "    }\n",
       "\n",
       "    .dataframe thead th {\n",
       "        text-align: right;\n",
       "    }\n",
       "</style>\n",
       "<table border=\"1\" class=\"dataframe\">\n",
       "  <thead>\n",
       "    <tr style=\"text-align: right;\">\n",
       "      <th></th>\n",
       "      <th>discount_rate</th>\n",
       "      <th>distance</th>\n",
       "      <th>if_fd</th>\n",
       "      <th>full_value</th>\n",
       "      <th>reduction_value</th>\n",
       "      <th>total_sales</th>\n",
       "      <th>sales_use_coupon</th>\n",
       "      <th>total_coupon</th>\n",
       "      <th>merchant_distance_min</th>\n",
       "      <th>merchant_distance_max</th>\n",
       "      <th>...</th>\n",
       "      <th>user_merchant_any</th>\n",
       "      <th>user_merchant_buy_common</th>\n",
       "      <th>user_merchant_coupon_transfer_rate</th>\n",
       "      <th>user_merchant_coupon_buy_rate</th>\n",
       "      <th>user_merchant_rate</th>\n",
       "      <th>user_merchant_common_buy_rate</th>\n",
       "      <th>label</th>\n",
       "      <th>user_id</th>\n",
       "      <th>coupon_id</th>\n",
       "      <th>date_received</th>\n",
       "    </tr>\n",
       "  </thead>\n",
       "  <tbody>\n",
       "    <tr>\n",
       "      <th>0</th>\n",
       "      <td>0.863014</td>\n",
       "      <td>0.0</td>\n",
       "      <td>1.0</td>\n",
       "      <td>0.666667</td>\n",
       "      <td>0.20</td>\n",
       "      <td>0.722209</td>\n",
       "      <td>0.898094</td>\n",
       "      <td>1.000000</td>\n",
       "      <td>0.0</td>\n",
       "      <td>1.0</td>\n",
       "      <td>...</td>\n",
       "      <td>0.000000</td>\n",
       "      <td>0.0</td>\n",
       "      <td>0.0</td>\n",
       "      <td>0.0</td>\n",
       "      <td>0.0</td>\n",
       "      <td>0.0</td>\n",
       "      <td>0</td>\n",
       "      <td>1832624</td>\n",
       "      <td>7610</td>\n",
       "      <td>20160429</td>\n",
       "    </tr>\n",
       "    <tr>\n",
       "      <th>1</th>\n",
       "      <td>0.786910</td>\n",
       "      <td>1.0</td>\n",
       "      <td>1.0</td>\n",
       "      <td>0.666667</td>\n",
       "      <td>0.30</td>\n",
       "      <td>0.037988</td>\n",
       "      <td>0.043496</td>\n",
       "      <td>0.214299</td>\n",
       "      <td>0.0</td>\n",
       "      <td>1.0</td>\n",
       "      <td>...</td>\n",
       "      <td>0.000000</td>\n",
       "      <td>0.0</td>\n",
       "      <td>0.0</td>\n",
       "      <td>0.0</td>\n",
       "      <td>0.0</td>\n",
       "      <td>0.0</td>\n",
       "      <td>0</td>\n",
       "      <td>163606</td>\n",
       "      <td>5054</td>\n",
       "      <td>20160421</td>\n",
       "    </tr>\n",
       "    <tr>\n",
       "      <th>2</th>\n",
       "      <td>0.863014</td>\n",
       "      <td>0.2</td>\n",
       "      <td>1.0</td>\n",
       "      <td>0.666667</td>\n",
       "      <td>0.20</td>\n",
       "      <td>0.722209</td>\n",
       "      <td>0.898094</td>\n",
       "      <td>1.000000</td>\n",
       "      <td>0.0</td>\n",
       "      <td>1.0</td>\n",
       "      <td>...</td>\n",
       "      <td>0.012346</td>\n",
       "      <td>0.0</td>\n",
       "      <td>0.0</td>\n",
       "      <td>0.0</td>\n",
       "      <td>0.0</td>\n",
       "      <td>0.0</td>\n",
       "      <td>0</td>\n",
       "      <td>94107</td>\n",
       "      <td>7610</td>\n",
       "      <td>20160412</td>\n",
       "    </tr>\n",
       "    <tr>\n",
       "      <th>3</th>\n",
       "      <td>0.863014</td>\n",
       "      <td>1.0</td>\n",
       "      <td>1.0</td>\n",
       "      <td>0.666667</td>\n",
       "      <td>0.20</td>\n",
       "      <td>0.722209</td>\n",
       "      <td>0.898094</td>\n",
       "      <td>1.000000</td>\n",
       "      <td>0.0</td>\n",
       "      <td>1.0</td>\n",
       "      <td>...</td>\n",
       "      <td>0.012346</td>\n",
       "      <td>0.0</td>\n",
       "      <td>0.0</td>\n",
       "      <td>0.0</td>\n",
       "      <td>0.0</td>\n",
       "      <td>0.0</td>\n",
       "      <td>0</td>\n",
       "      <td>4061024</td>\n",
       "      <td>7610</td>\n",
       "      <td>20160426</td>\n",
       "    </tr>\n",
       "    <tr>\n",
       "      <th>4</th>\n",
       "      <td>0.761035</td>\n",
       "      <td>1.0</td>\n",
       "      <td>1.0</td>\n",
       "      <td>0.100000</td>\n",
       "      <td>0.05</td>\n",
       "      <td>0.302988</td>\n",
       "      <td>0.392295</td>\n",
       "      <td>0.209746</td>\n",
       "      <td>0.0</td>\n",
       "      <td>1.0</td>\n",
       "      <td>...</td>\n",
       "      <td>0.012346</td>\n",
       "      <td>0.0</td>\n",
       "      <td>0.0</td>\n",
       "      <td>0.0</td>\n",
       "      <td>0.0</td>\n",
       "      <td>0.0</td>\n",
       "      <td>0</td>\n",
       "      <td>4061024</td>\n",
       "      <td>9871</td>\n",
       "      <td>20160409</td>\n",
       "    </tr>\n",
       "  </tbody>\n",
       "</table>\n",
       "<p>5 rows × 41 columns</p>\n",
       "</div>"
      ],
      "text/plain": [
       "   discount_rate  distance  if_fd  full_value  reduction_value  total_sales  \\\n",
       "0       0.863014       0.0    1.0    0.666667             0.20     0.722209   \n",
       "1       0.786910       1.0    1.0    0.666667             0.30     0.037988   \n",
       "2       0.863014       0.2    1.0    0.666667             0.20     0.722209   \n",
       "3       0.863014       1.0    1.0    0.666667             0.20     0.722209   \n",
       "4       0.761035       1.0    1.0    0.100000             0.05     0.302988   \n",
       "\n",
       "   sales_use_coupon  total_coupon  merchant_distance_min  \\\n",
       "0          0.898094      1.000000                    0.0   \n",
       "1          0.043496      0.214299                    0.0   \n",
       "2          0.898094      1.000000                    0.0   \n",
       "3          0.898094      1.000000                    0.0   \n",
       "4          0.392295      0.209746                    0.0   \n",
       "\n",
       "   merchant_distance_max      ...        user_merchant_any  \\\n",
       "0                    1.0      ...                 0.000000   \n",
       "1                    1.0      ...                 0.000000   \n",
       "2                    1.0      ...                 0.012346   \n",
       "3                    1.0      ...                 0.012346   \n",
       "4                    1.0      ...                 0.012346   \n",
       "\n",
       "   user_merchant_buy_common  user_merchant_coupon_transfer_rate  \\\n",
       "0                       0.0                                 0.0   \n",
       "1                       0.0                                 0.0   \n",
       "2                       0.0                                 0.0   \n",
       "3                       0.0                                 0.0   \n",
       "4                       0.0                                 0.0   \n",
       "\n",
       "   user_merchant_coupon_buy_rate  user_merchant_rate  \\\n",
       "0                            0.0                 0.0   \n",
       "1                            0.0                 0.0   \n",
       "2                            0.0                 0.0   \n",
       "3                            0.0                 0.0   \n",
       "4                            0.0                 0.0   \n",
       "\n",
       "   user_merchant_common_buy_rate  label  user_id  coupon_id  date_received  \n",
       "0                            0.0      0  1832624       7610       20160429  \n",
       "1                            0.0      0   163606       5054       20160421  \n",
       "2                            0.0      0    94107       7610       20160412  \n",
       "3                            0.0      0  4061024       7610       20160426  \n",
       "4                            0.0      0  4061024       9871       20160409  \n",
       "\n",
       "[5 rows x 41 columns]"
      ]
     },
     "execution_count": 14,
     "metadata": {},
     "output_type": "execute_result"
    }
   ],
   "source": [
    "#f2特征\n",
    "train=train_f2.copy()\n",
    "train.head()"
   ]
  },
  {
   "cell_type": "code",
   "execution_count": 15,
   "metadata": {},
   "outputs": [
    {
     "name": "stdout",
     "output_type": "stream",
     "text": [
      "特征f2, 不同模型5折训练Score：\n",
      "NB总体AUC: [0.8220931929754454, 0.8041439476875973, 0.7473969057092373, 0.7364328011348492, 0.7399166479676679]\n",
      "NBCoupon AUC: [0.6306880228045485, 0.6121314261743251, 0.6074369206205684, 0.6123035068071413, 0.6024926183731578]\n",
      "LR总体AUC: [0.838045425561811, 0.8334355217191942, 0.783652453548241, 0.773103759281277, 0.7756141925452026]\n",
      "LRCoupon AUC: [0.6298167791379139, 0.6227174633378124, 0.6094751774429826, 0.6104889106210036, 0.6066915809142149]\n",
      "RF总体AUC: [0.7936834424246084, 0.7874745254903434, 0.7708781489979948, 0.7779500793819797, 0.7919143047731462]\n",
      "RFCoupon AUC: [0.5827273579016518, 0.5445530079000613, 0.5304042583008893, 0.5564659344399356, 0.5592552801520129]\n",
      "LGB总体AUC: [0.8746736157221453, 0.8741332447626633, 0.8476246849601786, 0.8409184961295206, 0.8435429156007278]\n",
      "LGBCoupon AUC: [0.6357018028553509, 0.5926344244655043, 0.6031016040557363, 0.6113351837785365, 0.6068075517330594]\n"
     ]
    }
   ],
   "source": [
    "print ('特征f2, 不同模型5折训练Score：')\n",
    "classifier_df_score(train,'NB',5)\n",
    "classifier_df_score(train,'LR',5)\n",
    "classifier_df_score(train,'RF',5)\n",
    "classifier_df_score(train,'LGB',5)"
   ]
  },
  {
   "cell_type": "code",
   "execution_count": 16,
   "metadata": {},
   "outputs": [
    {
     "data": {
      "text/html": [
       "<div>\n",
       "<style scoped>\n",
       "    .dataframe tbody tr th:only-of-type {\n",
       "        vertical-align: middle;\n",
       "    }\n",
       "\n",
       "    .dataframe tbody tr th {\n",
       "        vertical-align: top;\n",
       "    }\n",
       "\n",
       "    .dataframe thead th {\n",
       "        text-align: right;\n",
       "    }\n",
       "</style>\n",
       "<table border=\"1\" class=\"dataframe\">\n",
       "  <thead>\n",
       "    <tr style=\"text-align: right;\">\n",
       "      <th></th>\n",
       "      <th>discount_rate</th>\n",
       "      <th>distance</th>\n",
       "      <th>if_fd</th>\n",
       "      <th>full_value</th>\n",
       "      <th>reduction_value</th>\n",
       "      <th>total_sales</th>\n",
       "      <th>sales_use_coupon</th>\n",
       "      <th>total_coupon</th>\n",
       "      <th>merchant_distance_min</th>\n",
       "      <th>merchant_distance_max</th>\n",
       "      <th>...</th>\n",
       "      <th>this_month_user_receive_same_coupon_lastone</th>\n",
       "      <th>this_month_user_receive_same_coupon_firstone</th>\n",
       "      <th>this_day_receive_all_coupon_count</th>\n",
       "      <th>this_day_user_receive_same_coupon_count</th>\n",
       "      <th>day_gap_before</th>\n",
       "      <th>day_gap_after</th>\n",
       "      <th>label</th>\n",
       "      <th>user_id</th>\n",
       "      <th>coupon_id</th>\n",
       "      <th>date_received</th>\n",
       "    </tr>\n",
       "  </thead>\n",
       "  <tbody>\n",
       "    <tr>\n",
       "      <th>0</th>\n",
       "      <td>0.863014</td>\n",
       "      <td>0.0</td>\n",
       "      <td>1.0</td>\n",
       "      <td>0.666667</td>\n",
       "      <td>0.20</td>\n",
       "      <td>0.722209</td>\n",
       "      <td>0.898094</td>\n",
       "      <td>1.000000</td>\n",
       "      <td>0.0</td>\n",
       "      <td>1.0</td>\n",
       "      <td>...</td>\n",
       "      <td>0.0</td>\n",
       "      <td>0.0</td>\n",
       "      <td>0.0</td>\n",
       "      <td>0.0</td>\n",
       "      <td>0.0</td>\n",
       "      <td>0.0</td>\n",
       "      <td>0</td>\n",
       "      <td>1832624</td>\n",
       "      <td>7610</td>\n",
       "      <td>20160429</td>\n",
       "    </tr>\n",
       "    <tr>\n",
       "      <th>1</th>\n",
       "      <td>0.786910</td>\n",
       "      <td>1.0</td>\n",
       "      <td>1.0</td>\n",
       "      <td>0.666667</td>\n",
       "      <td>0.30</td>\n",
       "      <td>0.037988</td>\n",
       "      <td>0.043496</td>\n",
       "      <td>0.214299</td>\n",
       "      <td>0.0</td>\n",
       "      <td>1.0</td>\n",
       "      <td>...</td>\n",
       "      <td>0.0</td>\n",
       "      <td>0.0</td>\n",
       "      <td>0.0</td>\n",
       "      <td>0.0</td>\n",
       "      <td>0.0</td>\n",
       "      <td>0.0</td>\n",
       "      <td>0</td>\n",
       "      <td>163606</td>\n",
       "      <td>5054</td>\n",
       "      <td>20160421</td>\n",
       "    </tr>\n",
       "    <tr>\n",
       "      <th>2</th>\n",
       "      <td>0.863014</td>\n",
       "      <td>0.2</td>\n",
       "      <td>1.0</td>\n",
       "      <td>0.666667</td>\n",
       "      <td>0.20</td>\n",
       "      <td>0.722209</td>\n",
       "      <td>0.898094</td>\n",
       "      <td>1.000000</td>\n",
       "      <td>0.0</td>\n",
       "      <td>1.0</td>\n",
       "      <td>...</td>\n",
       "      <td>0.0</td>\n",
       "      <td>0.0</td>\n",
       "      <td>0.0</td>\n",
       "      <td>0.0</td>\n",
       "      <td>0.0</td>\n",
       "      <td>0.0</td>\n",
       "      <td>0</td>\n",
       "      <td>94107</td>\n",
       "      <td>7610</td>\n",
       "      <td>20160412</td>\n",
       "    </tr>\n",
       "    <tr>\n",
       "      <th>3</th>\n",
       "      <td>0.863014</td>\n",
       "      <td>1.0</td>\n",
       "      <td>1.0</td>\n",
       "      <td>0.666667</td>\n",
       "      <td>0.20</td>\n",
       "      <td>0.722209</td>\n",
       "      <td>0.898094</td>\n",
       "      <td>1.000000</td>\n",
       "      <td>0.0</td>\n",
       "      <td>1.0</td>\n",
       "      <td>...</td>\n",
       "      <td>0.0</td>\n",
       "      <td>0.0</td>\n",
       "      <td>0.0</td>\n",
       "      <td>0.0</td>\n",
       "      <td>0.0</td>\n",
       "      <td>0.0</td>\n",
       "      <td>0</td>\n",
       "      <td>4061024</td>\n",
       "      <td>7610</td>\n",
       "      <td>20160426</td>\n",
       "    </tr>\n",
       "    <tr>\n",
       "      <th>4</th>\n",
       "      <td>0.761035</td>\n",
       "      <td>1.0</td>\n",
       "      <td>1.0</td>\n",
       "      <td>0.100000</td>\n",
       "      <td>0.05</td>\n",
       "      <td>0.302988</td>\n",
       "      <td>0.392295</td>\n",
       "      <td>0.209746</td>\n",
       "      <td>0.0</td>\n",
       "      <td>1.0</td>\n",
       "      <td>...</td>\n",
       "      <td>0.0</td>\n",
       "      <td>0.0</td>\n",
       "      <td>0.0</td>\n",
       "      <td>0.0</td>\n",
       "      <td>0.0</td>\n",
       "      <td>0.0</td>\n",
       "      <td>0</td>\n",
       "      <td>4061024</td>\n",
       "      <td>9871</td>\n",
       "      <td>20160409</td>\n",
       "    </tr>\n",
       "  </tbody>\n",
       "</table>\n",
       "<p>5 rows × 49 columns</p>\n",
       "</div>"
      ],
      "text/plain": [
       "   discount_rate  distance  if_fd  full_value  reduction_value  total_sales  \\\n",
       "0       0.863014       0.0    1.0    0.666667             0.20     0.722209   \n",
       "1       0.786910       1.0    1.0    0.666667             0.30     0.037988   \n",
       "2       0.863014       0.2    1.0    0.666667             0.20     0.722209   \n",
       "3       0.863014       1.0    1.0    0.666667             0.20     0.722209   \n",
       "4       0.761035       1.0    1.0    0.100000             0.05     0.302988   \n",
       "\n",
       "   sales_use_coupon  total_coupon  merchant_distance_min  \\\n",
       "0          0.898094      1.000000                    0.0   \n",
       "1          0.043496      0.214299                    0.0   \n",
       "2          0.898094      1.000000                    0.0   \n",
       "3          0.898094      1.000000                    0.0   \n",
       "4          0.392295      0.209746                    0.0   \n",
       "\n",
       "   merchant_distance_max      ...        \\\n",
       "0                    1.0      ...         \n",
       "1                    1.0      ...         \n",
       "2                    1.0      ...         \n",
       "3                    1.0      ...         \n",
       "4                    1.0      ...         \n",
       "\n",
       "   this_month_user_receive_same_coupon_lastone  \\\n",
       "0                                          0.0   \n",
       "1                                          0.0   \n",
       "2                                          0.0   \n",
       "3                                          0.0   \n",
       "4                                          0.0   \n",
       "\n",
       "   this_month_user_receive_same_coupon_firstone  \\\n",
       "0                                           0.0   \n",
       "1                                           0.0   \n",
       "2                                           0.0   \n",
       "3                                           0.0   \n",
       "4                                           0.0   \n",
       "\n",
       "   this_day_receive_all_coupon_count  this_day_user_receive_same_coupon_count  \\\n",
       "0                                0.0                                      0.0   \n",
       "1                                0.0                                      0.0   \n",
       "2                                0.0                                      0.0   \n",
       "3                                0.0                                      0.0   \n",
       "4                                0.0                                      0.0   \n",
       "\n",
       "   day_gap_before  day_gap_after  label  user_id  coupon_id  date_received  \n",
       "0             0.0            0.0      0  1832624       7610       20160429  \n",
       "1             0.0            0.0      0   163606       5054       20160421  \n",
       "2             0.0            0.0      0    94107       7610       20160412  \n",
       "3             0.0            0.0      0  4061024       7610       20160426  \n",
       "4             0.0            0.0      0  4061024       9871       20160409  \n",
       "\n",
       "[5 rows x 49 columns]"
      ]
     },
     "execution_count": 16,
     "metadata": {},
     "output_type": "execute_result"
    }
   ],
   "source": [
    "#f3特征\n",
    "train=train_f3.copy()\n",
    "train.head()"
   ]
  },
  {
   "cell_type": "code",
   "execution_count": 17,
   "metadata": {
    "scrolled": true
   },
   "outputs": [
    {
     "name": "stdout",
     "output_type": "stream",
     "text": [
      "特征f3, 不同模型5折训练Score：\n",
      "NB总体AUC: [0.8600232871434285, 0.8454000250719758, 0.7975100267142217, 0.7866414257727325, 0.7892483984512402]\n",
      "NBCoupon AUC: [0.7175196206132957, 0.7179948792774353, 0.7164928734195067, 0.7215488482224762, 0.7188771195885274]\n",
      "LR总体AUC: [0.8687338139599339, 0.8724991576085558, 0.8297601049649543, 0.8210263912533682, 0.821649452000139]\n",
      "LRCoupon AUC: [0.730025757319263, 0.7342186628109415, 0.7307145876564921, 0.7440700245280267, 0.7372941943745948]\n",
      "RF总体AUC: [0.8570804693995167, 0.8603606645981764, 0.845112182697454, 0.8457092679446263, 0.8490906847042663]\n",
      "RFCoupon AUC: [0.7203001319283459, 0.6991852569646155, 0.7051151722027443, 0.723797478489425, 0.7237838727373146]\n",
      "LGB总体AUC: [0.902583523893224, 0.9039339269839327, 0.8864817400224342, 0.8810169231038664, 0.8829524946604708]\n",
      "LGBCoupon AUC: [0.7460752458491179, 0.7438641556642815, 0.7494649031016666, 0.7633777325894878, 0.7641227179819879]\n"
     ]
    }
   ],
   "source": [
    "print ('特征f3, 不同模型5折训练Score：')\n",
    "classifier_df_score(train,'NB',5)\n",
    "classifier_df_score(train,'LR',5)\n",
    "classifier_df_score(train,'RF',5)\n",
    "classifier_df_score(train,'LGB',5)"
   ]
  },
  {
   "cell_type": "markdown",
   "metadata": {},
   "source": [
    "通过对比训练集上不同算法的运算结果可以发现，F1特征集因为特征比较少，有严重的欠拟合，所以所有算法的分数都比较低。\n",
    "F2特征集通过滑窗增加统计特征，它的分数比f1有了飞跃性的提高，其实在现实的业务场景F2+LR已经是一个很常用的解决方案了。之所以在实际作业中更倾向逻辑回归而不是类似LightGBM的算法，是为了减少计算量。当然如果计算资源不是问题的话，LightGBM也是一个好选择"
   ]
  },
  {
   "cell_type": "markdown",
   "metadata": {},
   "source": [
    "### 绘制学习曲线进行可视化分析"
   ]
  },
  {
   "cell_type": "markdown",
   "metadata": {},
   "source": [
    "我们还可以通过绘制学习曲线，对训练的过程进行比较深入的了解。"
   ]
  },
  {
   "cell_type": "code",
   "execution_count": 18,
   "metadata": {},
   "outputs": [],
   "source": [
    "\n",
    "#画学习曲线\n",
    "def plot_learning_curve(estimator, title, X, y, ylim=None, cv=None,\n",
    "                        n_jobs=1, train_sizes=[0.01,0.02,0.05,0.1,0.2,0.3]):\n",
    "    plt.figure()\n",
    "    plt.title(title)\n",
    "    if ylim is not None:\n",
    "        plt.ylim(*ylim)\n",
    "    plt.xlabel(\"Training examples\")\n",
    "    plt.ylabel(\"Score\")\n",
    "    train_sizes, train_scores, test_scores = learning_curve(\n",
    "        estimator, X, y, cv=cv,scoring=myeval, n_jobs=n_jobs, train_sizes=train_sizes)\n",
    "    train_scores_mean = np.mean(train_scores, axis=1)\n",
    "    train_scores_std = np.std(train_scores, axis=1)\n",
    "    test_scores_mean = np.mean(test_scores, axis=1)\n",
    "    test_scores_std = np.std(test_scores, axis=1)\n",
    "    plt.grid()\n",
    " \n",
    "    plt.fill_between(train_sizes, train_scores_mean - train_scores_std,\n",
    "                     train_scores_mean + train_scores_std, alpha=0.1,\n",
    "                     color=\"r\")\n",
    "    plt.fill_between(train_sizes, test_scores_mean - test_scores_std,\n",
    "                     test_scores_mean + test_scores_std, alpha=0.1, color=\"g\")\n",
    "    plt.plot(train_sizes, train_scores_mean, 'o-', color=\"r\",\n",
    "             label=\"Training score\")\n",
    "    plt.plot(train_sizes, test_scores_mean, 'o-', color=\"g\",\n",
    "             label=\"Cross-validation score\")\n",
    " \n",
    "    plt.legend(loc=\"best\")\n",
    "    plt.show()\n",
    "    return plt\n",
    "\n",
    "#画算法的学习曲线,为加快画图速度，最多选20%数据\n",
    "def plot_curve_single(traindf,classifier,cvnum,train_sizes=[0.01,0.02,0.05,0.1,0.2,0.3]): \n",
    "    X=get_predictors_df(traindf)\n",
    "    y=get_target_df(traindf)\n",
    "    title = \"learning curve of \"+classifier+\", cv:\"+str(cvnum)\n",
    "    estimator = get_sklearn_model(classifier)    #建模\n",
    "    plot_learning_curve(estimator, title, X, y, ylim=(0, 1.01), cv=cvnum, train_sizes=train_sizes)"
   ]
  },
  {
   "cell_type": "markdown",
   "metadata": {},
   "source": [
    "**F1特征集**"
   ]
  },
  {
   "cell_type": "code",
   "execution_count": 19,
   "metadata": {},
   "outputs": [
    {
     "data": {
      "image/png": "[encoded data removed]",
      "text/plain": [
       "<Figure size 432x288 with 1 Axes>"
      ]
     },
     "metadata": {
      "needs_background": "light"
     },
     "output_type": "display_data"
    }
   ],
   "source": [
    "plot_curve_single(train_f1,'LR',5,[0.01,0.02,0.05,0.1,0.2,0.3])"
   ]
  },
  {
   "cell_type": "code",
   "execution_count": 20,
   "metadata": {},
   "outputs": [
    {
     "data": {
      "image/png": "[encoded data removed]",
      "text/plain": [
       "<Figure size 432x288 with 1 Axes>"
      ]
     },
     "metadata": {
      "needs_background": "light"
     },
     "output_type": "display_data"
    }
   ],
   "source": [
    "plot_curve_single(train_f1,'NB',5,[0.01,0.02,0.05,0.1,0.2,0.3])"
   ]
  },
  {
   "cell_type": "code",
   "execution_count": 21,
   "metadata": {
    "scrolled": true
   },
   "outputs": [
    {
     "data": {
      "image/png": "[encoded data removed]",
      "text/plain": [
       "<Figure size 432x288 with 1 Axes>"
      ]
     },
     "metadata": {
      "needs_background": "light"
     },
     "output_type": "display_data"
    }
   ],
   "source": [
    "plot_curve_single(train_f1,'DT',5,[0.01,0.02,0.05,0.1,0.2,0.3])"
   ]
  },
  {
   "cell_type": "code",
   "execution_count": 22,
   "metadata": {
    "scrolled": true
   },
   "outputs": [
    {
     "data": {
      "image/png": "[encoded data removed]",
      "text/plain": [
       "<Figure size 432x288 with 1 Axes>"
      ]
     },
     "metadata": {
      "needs_background": "light"
     },
     "output_type": "display_data"
    }
   ],
   "source": [
    "plot_curve_single(train_f1,'RF',5,[0.01,0.02,0.05,0.1,0.2,0.3])"
   ]
  },
  {
   "cell_type": "code",
   "execution_count": 23,
   "metadata": {},
   "outputs": [
    {
     "data": {
      "image/png": "[encoded data removed]",
      "text/plain": [
       "<Figure size 432x288 with 1 Axes>"
      ]
     },
     "metadata": {
      "needs_background": "light"
     },
     "output_type": "display_data"
    }
   ],
   "source": [
    "plot_curve_single(train_f1,'LGB',5,[0.01,0.02,0.05,0.1,0.2,0.3])"
   ]
  },
  {
   "cell_type": "markdown",
   "metadata": {},
   "source": [
    "**F2特征集**"
   ]
  },
  {
   "cell_type": "code",
   "execution_count": 24,
   "metadata": {},
   "outputs": [
    {
     "data": {
      "image/png": "[encoded data removed]",
      "text/plain": [
       "<Figure size 432x288 with 1 Axes>"
      ]
     },
     "metadata": {
      "needs_background": "light"
     },
     "output_type": "display_data"
    }
   ],
   "source": [
    "plot_curve_single(train_f2,'DT',5,[0.1,0.2,0.3,0.5])"
   ]
  },
  {
   "cell_type": "code",
   "execution_count": 25,
   "metadata": {},
   "outputs": [
    {
     "data": {
      "image/png": "[encoded data removed]",
      "text/plain": [
       "<Figure size 432x288 with 1 Axes>"
      ]
     },
     "metadata": {
      "needs_background": "light"
     },
     "output_type": "display_data"
    }
   ],
   "source": [
    "plot_curve_single(train_f2,'NB',5,[0.1,0.2,0.3,0.5])"
   ]
  },
  {
   "cell_type": "code",
   "execution_count": 26,
   "metadata": {},
   "outputs": [
    {
     "data": {
      "image/png": "[encoded data removed]",
      "text/plain": [
       "<Figure size 432x288 with 1 Axes>"
      ]
     },
     "metadata": {
      "needs_background": "light"
     },
     "output_type": "display_data"
    }
   ],
   "source": [
    "plot_curve_single(train_f2,'LR',5,[0.1,0.2,0.3,0.5])"
   ]
  },
  {
   "cell_type": "code",
   "execution_count": 27,
   "metadata": {},
   "outputs": [
    {
     "data": {
      "image/png": "[encoded data removed]",
      "text/plain": [
       "<Figure size 432x288 with 1 Axes>"
      ]
     },
     "metadata": {
      "needs_background": "light"
     },
     "output_type": "display_data"
    }
   ],
   "source": [
    "plot_curve_single(train_f2,'RF',5,[0.1,0.2,0.3,0.5])"
   ]
  },
  {
   "cell_type": "code",
   "execution_count": 28,
   "metadata": {},
   "outputs": [
    {
     "data": {
      "image/png": "[encoded data removed]",
      "text/plain": [
       "<Figure size 432x288 with 1 Axes>"
      ]
     },
     "metadata": {
      "needs_background": "light"
     },
     "output_type": "display_data"
    }
   ],
   "source": [
    "plot_curve_single(train_f2,'LGB',5,[0.1,0.2,0.3,0.5])"
   ]
  },
  {
   "cell_type": "markdown",
   "metadata": {},
   "source": [
    "**F3特征集**"
   ]
  },
  {
   "cell_type": "code",
   "execution_count": 30,
   "metadata": {
    "scrolled": true
   },
   "outputs": [
    {
     "data": {
      "image/png": "[encoded data removed]",
      "text/plain": [
       "<Figure size 432x288 with 1 Axes>"
      ]
     },
     "metadata": {
      "needs_background": "light"
     },
     "output_type": "display_data"
    }
   ],
   "source": [
    "plot_curve_single(train_f3,'DT',5,[0.1,0.2,0.3,0.5])"
   ]
  },
  {
   "cell_type": "code",
   "execution_count": 31,
   "metadata": {},
   "outputs": [
    {
     "data": {
      "image/png": "[encoded data removed]",
      "text/plain": [
       "<Figure size 432x288 with 1 Axes>"
      ]
     },
     "metadata": {
      "needs_background": "light"
     },
     "output_type": "display_data"
    }
   ],
   "source": [
    "plot_curve_single(train_f3,'NB',5,[0.1,0.2,0.3,0.5])"
   ]
  },
  {
   "cell_type": "code",
   "execution_count": 32,
   "metadata": {},
   "outputs": [
    {
     "data": {
      "image/png": "[encoded data removed]",
      "text/plain": [
       "<Figure size 432x288 with 1 Axes>"
      ]
     },
     "metadata": {
      "needs_background": "light"
     },
     "output_type": "display_data"
    }
   ],
   "source": [
    "plot_curve_single(train_f3,'LR',5,[0.1,0.2,0.3,0.5])"
   ]
  },
  {
   "cell_type": "code",
   "execution_count": 33,
   "metadata": {},
   "outputs": [
    {
     "data": {
      "image/png": "[encoded data removed]",
      "text/plain": [
       "<Figure size 432x288 with 1 Axes>"
      ]
     },
     "metadata": {
      "needs_background": "light"
     },
     "output_type": "display_data"
    }
   ],
   "source": [
    "plot_curve_single(train_f3,'RF',5,[0.1,0.2,0.3,0.5])"
   ]
  },
  {
   "cell_type": "code",
   "execution_count": null,
   "metadata": {},
   "outputs": [],
   "source": [
    "plot_curve_single(train_f3,'LGB',5,[0.1,0.2,0.3,0.5])"
   ]
  },
  {
   "cell_type": "markdown",
   "metadata": {},
   "source": [
    "可以发现在特征集f1上，评测分普遍比较低，是欠拟合。\n",
    "在特征集f3上决策树和随机森林都表现出过拟合。LGB表现比较好。"
   ]
  },
  {
   "cell_type": "markdown",
   "metadata": {},
   "source": [
    "# 模型超参空间及调参"
   ]
  },
  {
   "cell_type": "code",
   "execution_count": null,
   "metadata": {},
   "outputs": [],
   "source": [
    "#f3\n",
    "train = get_predictors_df(train_f3)\n",
    "target = get_target_df(train_f3)\n",
    "train.head()"
   ]
  },
  {
   "cell_type": "markdown",
   "metadata": {},
   "source": [
    "## 以随机森林为例介绍基本调用方法\n",
    "### 穷举网格搜索"
   ]
  },
  {
   "cell_type": "code",
   "execution_count": null,
   "metadata": {},
   "outputs": [],
   "source": [
    "from sklearn.model_selection import GridSearchCV\n",
    "from sklearn.ensemble import RandomForestClassifier\n",
    "from sklearn.model_selection import train_test_split # 切分数据\n",
    "# 切分数据 训练数据80% 验证数据20%\n",
    "train_data,test_data,train_target,test_target=train_test_split(train,target,test_size=0.2,random_state=0)\n",
    "\n",
    "model = RandomForestClassifier()\n",
    "parameters = {\n",
    "              'n_estimators':[20, 50, 100],\n",
    "              'max_depth':[1, 2, 3]\n",
    "        }\n",
    "\n",
    "clf = GridSearchCV(model, parameters, cv=3, verbose=2)\n",
    "clf.fit(train_data, train_target)\n",
    "\n",
    "score_test = roc_auc_score(test_target, clf.predict(test_data))\n",
    "\n",
    "print(\"RandomForestClassifier GridSearchCV test AUC:   \", score_test)\n",
    "print(\"最优参数:\")\n",
    "print(clf.best_params_)\n",
    "sorted(clf.cv_results_.keys())"
   ]
  },
  {
   "cell_type": "markdown",
   "metadata": {},
   "source": [
    "运行起来我们可以发现网格搜索很耗时间，每次训练及预测的次数是按照参数的个数指数增长的。所以一次不要搜索太多的参数，一般1，2个就可以了。"
   ]
  },
  {
   "cell_type": "markdown",
   "metadata": {},
   "source": [
    "### 随机参数优化"
   ]
  },
  {
   "cell_type": "code",
   "execution_count": null,
   "metadata": {},
   "outputs": [],
   "source": [
    "from sklearn.model_selection import RandomizedSearchCV\n",
    "from sklearn.ensemble import RandomForestClassifier\n",
    "from sklearn.model_selection import train_test_split # 切分数据\n",
    "# 切分数据 训练数据80% 验证数据20%\n",
    "train_data,test_data,train_target,test_target=train_test_split(train,target,test_size=0.2,random_state=0)\n",
    "\n",
    "model = RandomForestClassifier()\n",
    "parameters = {\n",
    "              'n_estimators':[10,20, 30,50],\n",
    "              'max_depth':[1, 2, 3]\n",
    "        }\n",
    "\n",
    "clf = RandomizedSearchCV(model, parameters, cv=3, verbose=2)\n",
    "clf.fit(train_data, train_target)\n",
    "\n",
    "score_test = roc_auc_score(test_target, clf.predict(test_data))\n",
    "\n",
    "print(\"RandomForestClassifier RandomizedSearchCV test AUC:   \", score_test)\n",
    "print(\"最优参数:\")\n",
    "print(clf.best_params_)\n",
    "sorted(clf.cv_results_.keys())"
   ]
  },
  {
   "cell_type": "markdown",
   "metadata": {},
   "source": [
    "## F3特征集和LightGBM 网格调参"
   ]
  },
  {
   "cell_type": "markdown",
   "metadata": {},
   "source": [
    "LightGBM 调参次序：  \n",
    "第一步：学习率和迭代次数  \n",
    "第二步：确定max_depth和num_leaves  \n",
    "第三步：确定min_data_in_leaf和max_bin in  \n",
    "第四步：确定feature_fraction、bagging_fraction、bagging_freq  \n",
    "第五步：确定lambda_l1和lambda_l2  \n",
    "第六步：确定 min_split_gain   \n",
    "第七步：降低学习率，增加迭代次数，验证模型  "
   ]
  },
  {
   "cell_type": "code",
   "execution_count": null,
   "metadata": {},
   "outputs": [],
   "source": [
    "#f3特征\n",
    "traindf=train_f3.copy()\n",
    "\n",
    "#按日期分割，为了加快速度，只用了一般数据进行网格调参，正式的时候应该全用\n",
    "train=traindf[traindf.date_received<20160515]\n",
    "test=traindf[traindf.date_received>=20160515]\n",
    "\n",
    "train_data = get_predictors_df(train).copy()\n",
    "train_target = get_target_df(train).copy()\n",
    "test_data = get_predictors_df(test).copy()\n",
    "test_target = get_target_df(test).copy()\n",
    "\n",
    "traindf.head()"
   ]
  },
  {
   "cell_type": "code",
   "execution_count": null,
   "metadata": {
    "scrolled": true
   },
   "outputs": [],
   "source": [
    "#第一步：学习率和迭代次数\n",
    "from sklearn.model_selection import GridSearchCV\n",
    "from sklearn.model_selection import train_test_split \n",
    "# 切分数据 训练数据80% 验证数据20%\n",
    "# 为了加快速度CV选的3，其实一般用5\n",
    "# 因为每训练一次耗时很多，所以每个参数的选项不多，间隔比较大，正式的时候应该是比较多，间隔比较细的\n",
    "# 本次只是演示，所以如果最好参数位于区间的边缘也就直接用了，其实如果最好参数在边缘，需要重新再搜索。\n",
    "\n",
    "\n",
    "model = LGBMClassifier(boosting_type='gbdt',objective='binary',metrics='auc',\n",
    "                       learning_rate=0.1, max_depth=5, bagging_fraction = 0.8,feature_fraction = 0.8)\n",
    "parameters = {'n_estimators':[100,150,175,200,225,250]}\n",
    "\n",
    "clf = GridSearchCV(model, parameters, cv=3, verbose=2)\n",
    "clf.fit(train_data, train_target)\n",
    "\n",
    "score_test = roc_auc_score(test_target, clf.predict_proba(test_data)[:,1])\n",
    "\n",
    "print(\"LightGBM GridSearchCV AUC Score:   \", score_test)\n",
    "print(\"最优参数:\")\n",
    "print(clf.best_params_)"
   ]
  },
  {
   "cell_type": "code",
   "execution_count": null,
   "metadata": {},
   "outputs": [],
   "source": [
    "#第二步：确定max_depth和num_leaves\n",
    "#n_estimators=200\n",
    "model = LGBMClassifier(boosting_type='gbdt',objective='binary',metrics='auc',n_estimators=200,\n",
    "                        learning_rate=0.1, bagging_fraction = 0.8,feature_fraction = 0.8)\n",
    "parameters={'max_depth': range(4,8,1), 'num_leaves':range(10, 150, 10)}\n",
    "clf = GridSearchCV(model, parameters, cv=3, verbose=2)\n",
    "clf.fit(train_data, train_target)\n",
    "\n",
    "score_test = roc_auc_score(test_target, clf.predict_proba(test_data)[:,1])\n",
    "\n",
    "print(\"LightGBM GridSearchCV AUC Score:   \", score_test)\n",
    "print(\"最优参数:\")\n",
    "print(clf.best_params_)"
   ]
  },
  {
   "cell_type": "markdown",
   "metadata": {},
   "source": [
    "根据结果取 max_depth=6, num_leaves=40 也都这么做。"
   ]
  },
  {
   "cell_type": "code",
   "execution_count": null,
   "metadata": {},
   "outputs": [],
   "source": [
    "#第三步：确定min_data_in_leaf和max_bin in\n",
    "#已经确认内容：\n",
    "#n_estimators=200\n",
    "#{'max_depth': 6, 'num_leaves': 40}\n",
    "model = LGBMClassifier(boosting_type='gbdt',objective='binary',metrics='auc',n_estimators=200,max_depth=6,num_leaves=40,\n",
    "                        learning_rate=0.1, bagging_fraction = 0.8,feature_fraction = 0.8)\n",
    "\n",
    "parameters={'max_bin': range(100,500,50),'min_data_in_leaf':range(100,150,10)}\n",
    "#调高 verbose可以看到更多信息\n",
    "clf = GridSearchCV(model, parameters, cv=3, verbose=3)\n",
    "clf.fit(train_data, train_target)\n",
    "\n",
    "score_test = roc_auc_score(test_target, clf.predict_proba(test_data)[:,1])\n",
    "\n",
    "print(\"LightGBM GridSearchCV AUC Score:   \", score_test)\n",
    "print(\"最优参数:\")\n",
    "print(clf.best_params_)"
   ]
  },
  {
   "cell_type": "code",
   "execution_count": null,
   "metadata": {},
   "outputs": [],
   "source": [
    "#第四步：确定feature_fraction、bagging_fraction、bagging_freq \n",
    "#已经确认内容：\n",
    "#n_estimators=200\n",
    "#{'max_depth': 6, 'num_leaves': 40}\n",
    "#{'max_bin': 400, 'min_data_in_leaf': 120}\n",
    "model = LGBMClassifier(boosting_type='gbdt',objective='binary',metrics='auc',n_estimators=200,max_depth=6,num_leaves=40,\n",
    "                        max_bin=400,min_data_in_leaf=120,\n",
    "                        learning_rate=0.1, bagging_fraction = 0.8,feature_fraction = 0.8)\n",
    "\n",
    "parameters={  'feature_fraction': [0.6,0.7,0.8,0.9,1.0],\n",
    "              'bagging_fraction': [0.6,0.7,0.8,0.9,1.0],\n",
    "              'bagging_freq': range(0,10,2)\n",
    "            }\n",
    "\n",
    "#调高 verbose可以看到更多信息\n",
    "clf = GridSearchCV(model, parameters, cv=3, verbose=3)\n",
    "clf.fit(train_data, train_target)\n",
    "\n",
    "score_test = roc_auc_score(test_target, clf.predict_proba(test_data)[:,1])\n",
    "\n",
    "print(\"LightGBM GridSearchCV AUC Score:   \", score_test)\n",
    "print(\"最优参数:\")\n",
    "print(clf.best_params_)"
   ]
  },
  {
   "cell_type": "code",
   "execution_count": null,
   "metadata": {},
   "outputs": [],
   "source": [
    "#第五步：确定lambda_l1和lambda_l2\n",
    "#已经确认内容：\n",
    "#n_estimators=200\n",
    "#{'max_depth': 6, 'num_leaves': 40}\n",
    "#{'max_bin': 400, 'min_data_in_leaf': 120}\n",
    "#{'bagging_fraction': 0.9, 'bagging_freq': 4, 'feature_fraction': 0.6}\n",
    "model = LGBMClassifier(boosting_type='gbdt',objective='binary',metrics='auc',n_estimators=200,max_depth=6,num_leaves=40,\n",
    "                        max_bin=400,min_data_in_leaf=120,\n",
    "                        learning_rate=0.1, \n",
    "                        bagging_freq=4, bagging_fraction = 0.9,feature_fraction = 0.6)\n",
    "\n",
    "parameters={'lambda_l1': [1e-5,1e-3,1e-1,0.0,0.1,0.3,0.5,0.7,0.9,1.0],\n",
    "              'lambda_l2': [1e-5,1e-3,1e-1,0.0,0.1,0.3,0.5,0.7,0.9,1.0]\n",
    "}\n",
    "\n",
    "#调高 verbose可以看到更多信息\n",
    "clf = GridSearchCV(model, parameters, cv=3, verbose=3)\n",
    "clf.fit(train_data, train_target)\n",
    "\n",
    "score_test = roc_auc_score(test_target, clf.predict_proba(test_data)[:,1])\n",
    "\n",
    "print(\"LightGBM GridSearchCV AUC Score:   \", score_test)\n",
    "print(\"最优参数:\")\n",
    "print(clf.best_params_)"
   ]
  },
  {
   "cell_type": "code",
   "execution_count": null,
   "metadata": {
    "scrolled": true
   },
   "outputs": [],
   "source": [
    "#第六步：确定 min_split_gain\n",
    "#已经确认内容：\n",
    "#n_estimators=200\n",
    "#{'max_depth': 6, 'num_leaves': 40}\n",
    "#{'max_bin': 400, 'min_data_in_leaf': 120}\n",
    "#{'bagging_fraction': 0.9, 'bagging_freq': 4, 'feature_fraction': 0.6}\n",
    "#{'lambda_l1': 1e-05, 'lambda_l2': 1e-05}\n",
    "model = LGBMClassifier(boosting_type='gbdt',objective='binary',metrics='auc',n_estimators=200,max_depth=6,num_leaves=40,\n",
    "                        max_bin=400,min_data_in_leaf=120,\n",
    "                        learning_rate=0.1, \n",
    "                       lambda_l1=1e-05,lambda_l2=1e-05,\n",
    "                        bagging_freq=4, bagging_fraction = 0.9,feature_fraction = 0.6)\n",
    "\n",
    "parameters={'min_split_gain':[0.0,0.1,0.2,0.3,0.4,0.5,0.6,0.7,0.8,0.9,1.0]}\n",
    "\n",
    "#调高 verbose可以看到更多信息\n",
    "clf = GridSearchCV(model, parameters, cv=3, verbose=3)\n",
    "clf.fit(train_data, train_target)\n",
    "\n",
    "score_test = roc_auc_score(test_target, clf.predict_proba(test_data)[:,1])\n",
    "\n",
    "print(\"LightGBM GridSearchCV AUC Score:   \", score_test)\n",
    "print(\"最优参数:\")\n",
    "print(clf.best_params_)"
   ]
  },
  {
   "cell_type": "code",
   "execution_count": null,
   "metadata": {},
   "outputs": [],
   "source": [
    "# 第七步：降低学习率，增加迭代次数，验证模型\n",
    "#已经确认内容：\n",
    "#n_estimators=200\n",
    "#{'max_depth': 6, 'num_leaves': 40}\n",
    "#{'max_bin': 400, 'min_data_in_leaf': 120}\n",
    "#{'bagging_fraction': 0.9, 'bagging_freq': 4, 'feature_fraction': 0.6}\n",
    "#{'lambda_l1': 1e-05, 'lambda_l2': 1e-05}\n",
    "#{'min_split_gain': 0.0}\n",
    "model = LGBMClassifier(boosting_type='gbdt',objective='binary',metrics='auc',n_estimators=200,max_depth=6,num_leaves=40,\n",
    "                        max_bin=400,min_data_in_leaf=120,\n",
    "                        learning_rate=0.1, \n",
    "                       lambda_l1=1e-05,lambda_l2=1e-05,min_split_gain=0.0,\n",
    "                        bagging_freq=4, bagging_fraction = 0.9,feature_fraction = 0.6)\n",
    "\n",
    "\n",
    "model.fit(train_data, train_target)\n",
    "score_test = roc_auc_score(test_target, model.predict_proba(test_data)[:,1])\n",
    "\n",
    "print(\"LightGBM learning rate 0.1 AUC Score:   \", score_test)\n",
    "\n",
    "model = LGBMClassifier(boosting_type='gbdt',objective='binary',metrics='auc',n_estimators=200,max_depth=6,num_leaves=40,\n",
    "                        max_bin=400,min_data_in_leaf=120,\n",
    "                        learning_rate=0.05, \n",
    "                       lambda_l1=1e-05,lambda_l2=1e-05,min_split_gain=0.0,\n",
    "                        bagging_freq=4, bagging_fraction = 0.9,feature_fraction = 0.6)\n",
    "\n",
    "\n",
    "model.fit(train_data, train_target)\n",
    "score_test = roc_auc_score(test_target, model.predict_proba(test_data)[:,1])\n",
    "\n",
    "print(\"LightGBM learning rate 0.05 AUC Score:   \", score_test)\n",
    "\n",
    "model = LGBMClassifier(boosting_type='gbdt',objective='binary',metrics='auc',n_estimators=200,max_depth=6,num_leaves=40,\n",
    "                        max_bin=400,min_data_in_leaf=120,\n",
    "                        learning_rate=0.01, \n",
    "                       lambda_l1=1e-05,lambda_l2=1e-05,min_split_gain=0.0,\n",
    "                        bagging_freq=4, bagging_fraction = 0.9,feature_fraction = 0.6)\n",
    "\n",
    "\n",
    "model.fit(train_data, train_target)\n",
    "score_test = roc_auc_score(test_target, model.predict_proba(test_data)[:,1])\n",
    "\n",
    "print(\"LightGBM learning rate 0.01 AUC Score:   \", score_test)\n",
    "\n",
    "model = LGBMClassifier(boosting_type='gbdt',objective='binary',metrics='auc',n_estimators=200,max_depth=6,num_leaves=40,\n",
    "                        max_bin=400,min_data_in_leaf=120,\n",
    "                        learning_rate=0.005, \n",
    "                       lambda_l1=1e-05,lambda_l2=1e-05,min_split_gain=0.0,\n",
    "                        bagging_freq=4, bagging_fraction = 0.9,feature_fraction = 0.6)\n",
    "\n",
    "\n",
    "model.fit(train_data, train_target)\n",
    "score_test = roc_auc_score(test_target, model.predict_proba(test_data)[:,1])\n",
    "\n",
    "print(\"LightGBM learning rate 0.005 AUC Score:   \", score_test)"
   ]
  },
  {
   "cell_type": "code",
   "execution_count": null,
   "metadata": {},
   "outputs": [],
   "source": [
    "model = LGBMClassifier()\n",
    "\n",
    "\n",
    "model.fit(train_data, train_target)\n",
    "score_test = roc_auc_score(test_target, model.predict_proba(test_data)[:,1])\n",
    "\n",
    "print(\"默认参数 AUC Score:   \", score_test)"
   ]
  },
  {
   "cell_type": "markdown",
   "metadata": {},
   "source": [
    "最优参数\n",
    "model = LGBMClassifier(boosting_type='gbdt',objective='binary',metrics='auc',n_estimators=200,max_depth=6,num_leaves=40,  \n",
    "                        max_bin=400,min_data_in_leaf=120,  \n",
    "                        learning_rate=0.05,   \n",
    "                       lambda_l1=1e-05,lambda_l2=1e-05,min_split_gain=0.0,  \n",
    "                        bagging_freq=4, bagging_fraction = 0.9,feature_fraction = 0.6)  \n"
   ]
  },
  {
   "cell_type": "code",
   "execution_count": null,
   "metadata": {},
   "outputs": [],
   "source": [
    "#f3特征\n",
    "train=train_f3.copy()\n",
    "train.head()\n",
    "print('默认参数')\n",
    "classifier_df_score(train,'LGB',5)\n",
    "params={'boosting_type':'gbdt',\n",
    "\t    'objective': 'binary',\n",
    "\t    'eval_metric':'auc',\n",
    "\t    'n_estimators':200,\n",
    "\t    'max_depth':5,\n",
    "\t    'num_leaves':40,\n",
    "\t    'max_bin':400,\n",
    "\t    'min_data_in_leaf':120,\n",
    "\t    'learning_rate':0.1,\n",
    "\t    'lambda_l1': 1e-05,\n",
    "\t    'lambda_l2':1e-05,\n",
    "\t    'min_split_gain':0.0,\n",
    "\t    'bagging_freq':4,\n",
    "\t    'bagging_fraction': 0.9,\n",
    "\t    'feature_fraction':0.6,\n",
    "\t    'seed':1024,\n",
    "\t    'n_thread':12\n",
    "\t    }\n",
    "print('调参后')\n",
    "classifier_df_score(train,'LGB',5,params)"
   ]
  },
  {
   "cell_type": "markdown",
   "metadata": {},
   "source": [
    "对比发现调参后的结果比默认参数有所提高，不过不是高很多，比不上特征对结果的影响。而且因为调参只能再测试集上作，有的时候调参造成过拟，调参后线上成绩可能反而会下降。所以调参一般都是在比赛后期再做，前期主要是特征和模型的选择。"
   ]
  },
  {
   "cell_type": "markdown",
   "metadata": {},
   "source": [
    "## 绘制验证曲线"
   ]
  },
  {
   "cell_type": "markdown",
   "metadata": {},
   "source": [
    "可以通过绘制验证曲线，可视化的了解调参的过程。"
   ]
  },
  {
   "cell_type": "code",
   "execution_count": null,
   "metadata": {},
   "outputs": [],
   "source": [
    "#对进行网格调参\n",
    "def grid_plot(train_feat,classifier,cvnum,param_range,param_name,param=None):\n",
    "    from sklearn.model_selection import validation_curve\n",
    "    train_scores, test_scores = validation_curve(\n",
    "        get_sklearn_model(classifier,param), get_predictors_df(train_feat), get_target_df(train_feat), param_name=param_name, param_range=param_range,\n",
    "        cv=cvnum, scoring='roc_auc', n_jobs=1)\n",
    "    train_scores_mean = np.mean(train_scores, axis=1)\n",
    "    train_scores_std = np.std(train_scores, axis=1)\n",
    "    test_scores_mean = np.mean(test_scores, axis=1)\n",
    "    test_scores_std = np.std(test_scores, axis=1)\n",
    "    \n",
    "    plt.title(\"Validation Curve with \"+param_name)\n",
    "    plt.xlabel(param_name)\n",
    "    plt.ylabel(\"Score\")\n",
    "    plt.ylim(0.0, 1.1)\n",
    "    plt.semilogx(param_range, train_scores_mean, label=\"Training score\", color=\"r\")\n",
    "    plt.fill_between(param_range, train_scores_mean - train_scores_std,\n",
    "                     train_scores_mean + train_scores_std, alpha=0.2, color=\"r\")\n",
    "    plt.semilogx(param_range, test_scores_mean, label=\"Cross-validation score\",\n",
    "                 color=\"g\")\n",
    "    plt.fill_between(param_range, test_scores_mean - test_scores_std,\n",
    "                     test_scores_mean + test_scores_std, alpha=0.2, color=\"g\")\n",
    "    plt.legend(loc=\"best\")\n",
    "    plt.show()"
   ]
  },
  {
   "cell_type": "code",
   "execution_count": null,
   "metadata": {},
   "outputs": [],
   "source": [
    "#对逻辑回归的max_iter情况进行查看\n",
    "train_feat=train_f3.copy()\n",
    "#grid_plot(train_feat,classifier,3,[10,20,40,80,200,400,800],'n_estimators',param=params)\n",
    "grid_plot(train_feat,'LR',3,[1,2,5,10,20,40,50],'max_iter',param=None)"
   ]
  },
  {
   "cell_type": "code",
   "execution_count": null,
   "metadata": {},
   "outputs": [],
   "source": [
    "params = {\n",
    "    'learning_rate': 0.1,\n",
    "    'boosting_type': 'gbdt',\n",
    "    'objective': 'binary',\n",
    "    'metric': 'auc',\n",
    "    'sub_feature': 0.6,\n",
    "    'num_leaves': 50,\n",
    "    'bagging_fraction': 0.8,\n",
    "    'feature_fraction': 0.8\n",
    "}\n",
    "train_feat=train_f3.copy()\n",
    "#grid_plot(train_feat,classifier,3,[10,20,40,80,200,400,800],'n_estimators',param=params)\n",
    "grid_plot(train_feat,'LGB',3,[10,20,40],'n_estimators',param=params)"
   ]
  },
  {
   "cell_type": "code",
   "execution_count": null,
   "metadata": {},
   "outputs": [],
   "source": [
    "params = {\n",
    "    'learning_rate': 0.1,\n",
    "    'boosting_type': 'gbdt',\n",
    "    'objective': 'binary',\n",
    "    'metric': 'auc',\n",
    "    'num_leaves': 10\n",
    "}\n",
    "train_feat=train_f3.copy()\n",
    "#grid_plot(train_feat,classifier,3,[10,20,40,80,200,400,800],'n_estimators',param=params)\n",
    "grid_plot(train_feat,'LGB',3,[0.1,0.2,0.5,0.7,0.8],'colsample_bytree',param=params)"
   ]
  }
 ],
 "metadata": {
  "kernelspec": {
   "display_name": "Python 3",
   "language": "python",
   "name": "python3"
  },
  "language_info": {
   "codemirror_mode": {
    "name": "ipython",
    "version": 3
   },
   "file_extension": ".py",
   "mimetype": "text/x-python",
   "name": "python",
   "nbconvert_exporter": "python",
   "pygments_lexer": "ipython3",
   "version": "3.7.1"
  },
  "tianchi_metadata": {
   "competitions": [],
   "datasets": [],
   "description": "",
   "notebookId": "115350",
   "source": ""
  },
  "toc": {
   "base_numbering": 1,
   "nav_menu": {},
   "number_sections": true,
   "sideBar": true,
   "skip_h1_title": false,
   "title_cell": "模型验证及优化",
   "title_sidebar": "模型验证及优化",
   "toc_cell": true,
   "toc_position": {},
   "toc_section_display": true,
   "toc_window_display": true
  }
 },
 "nbformat": 4,
 "nbformat_minor": 4
}
